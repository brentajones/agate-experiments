{
 "cells": [
  {
   "cell_type": "code",
   "execution_count": 1,
   "metadata": {
    "collapsed": false
   },
   "outputs": [],
   "source": [
    "import agate"
   ]
  },
  {
   "cell_type": "code",
   "execution_count": 2,
   "metadata": {
    "collapsed": false
   },
   "outputs": [],
   "source": [
    "column_types = [agate.Text(), agate.Text(), agate.Text(), agate.Text(), agate.Number()]\n",
    "\n",
    "employees = agate.Table.from_csv('EMP_2015.csv', column_types=column_types)"
   ]
  },
  {
   "cell_type": "code",
   "execution_count": 3,
   "metadata": {
    "collapsed": false
   },
   "outputs": [
    {
     "name": "stdout",
     "output_type": "stream",
     "text": [
      "|-----------------+---------------|\n",
      "|  column_names   | column_types  |\n",
      "|-----------------+---------------|\n",
      "|  Calendar Year  | Text          |\n",
      "|  Agency Name    | Text          |\n",
      "|  Position Title | Text          |\n",
      "|  Employee Name  | Text          |\n",
      "|  YTD Gross Pay  | Number        |\n",
      "|-----------------+---------------|\n",
      "\n",
      "74597\n"
     ]
    }
   ],
   "source": [
    "print(employees)\n",
    "\n",
    "print(len(employees.rows))"
   ]
  },
  {
   "cell_type": "code",
   "execution_count": 4,
   "metadata": {
    "collapsed": false
   },
   "outputs": [
    {
     "name": "stdout",
     "output_type": "stream",
     "text": [
      "74554\n"
     ]
    }
   ],
   "source": [
    "positive_pay = employees.where(lambda row: row['YTD Gross Pay'] > 0)\n",
    "\n",
    "print(len(positive_pay.rows))"
   ]
  },
  {
   "cell_type": "code",
   "execution_count": 5,
   "metadata": {
    "collapsed": false
   },
   "outputs": [
    {
     "name": "stdout",
     "output_type": "stream",
     "text": [
      "YTD Gross Pay            Count\n",
      "[0 - 40,000)            60,273 ▓░░░░░░░░░░░░░░░   \n",
      "[40,000 - 80,000)       12,976 ▓░░░               \n",
      "[80,000 - 120,000)         830 ▓                  \n",
      "[120,000 - 160,000)        424 ▓                  \n",
      "[160,000 - 200,000)         14 ▓                  \n",
      "[200,000 - 240,000)         23 ▓                  \n",
      "[240,000 - 280,000)          6 ▓                  \n",
      "[280,000 - 320,000)          3 ▓                  \n",
      "[320,000 - 360,000)          3 ▓                  \n",
      "[360,000 - 400,000)          1 ▓                  \n",
      "[1,040,000 - 1,080,000)      1 ▓                  \n",
      "                               +--------+--------+\n",
      "                               0     35,000 70,000\n"
     ]
    }
   ],
   "source": [
    "binned_pay = positive_pay.bins('YTD Gross Pay', 50, 0)\n",
    "binned_pay.print_bars('YTD Gross Pay', width=50)"
   ]
  },
  {
   "cell_type": "code",
   "execution_count": 6,
   "metadata": {
    "collapsed": false,
    "scrolled": false
   },
   "outputs": [
    {
     "name": "stdout",
     "output_type": "stream",
     "text": [
      "|--------------------------------------------+-----------+--------------------------------+-------------|\n",
      "|  Agency Name                               | employees |                       pay_mean | pay_median  |\n",
      "|--------------------------------------------+-----------+--------------------------------+-------------|\n",
      "|  AGRICULTURE                               |     1,424 | 10,786.02926966292134831460674 |    783.280  |\n",
      "|  CONSERVATION                              |     2,518 | 26,294.69767672756155679110405 | 24,964.760  |\n",
      "|  CORRECTIONS                               |    13,830 | 26,499.78956326825741142443962 | 30,557.300  |\n",
      "|  ECONOMIC DEVELOPMENT                      |       918 | 33,543.02373638344226579520697 | 30,971.000  |\n",
      "|  ELEMENTARY AND SECONDARY EDUCATION        |     3,000 | 21,245.96191333333333333333333 | 16,442.300  |\n",
      "|  HEALTH AND SENIOR SERVICES                |     2,291 | 32,125.87323439546049759930162 | 33,730.000  |\n",
      "|  HIGHER EDUCATION                          |        66 | 39,608.46651515151515151515152 | 38,222.250  |\n",
      "|  INSURANCE, FIN INST AND PROF REGISTRATION |       929 | 29,775.88862217438105489773950 | 24,549.140  |\n",
      "|  JUDICIARY                                 |     5,075 | 36,394.05444532019704433497537 | 27,272.610  |\n",
      "|  LABOR AND INDUSTRIAL RELATIONS            |       996 | 31,863.88146586345381526104418 | 31,499.000  |\n",
      "|  LEGISLATURE                               |       921 | 28,148.51024972855591748099891 | 31,447.000  |\n",
      "|  MENTAL HEALTH                             |    10,087 | 25,167.90706552988995737087340 | 24,385.110  |\n",
      "|  NATURAL RESOURCES                         |     2,813 | 22,472.83507287593316743690011 | 17,264.130  |\n",
      "|  OFFICE OF ADMINISTRATION                  |     2,371 | 34,556.85382960776043863348798 | 32,841.380  |\n",
      "|  OFFICE OF ATTORNEY GENERAL                |       444 | 42,035.87549549549549549549550 | 40,131.115  |\n",
      "|  OFFICE OF GOVERNOR                        |        31 | 59,007.84709677419354838709677 | 57,502.260  |\n",
      "|  OFFICE OF LIEUTENANT GOVERNOR             |        10 | 36,385.10000000000000000000000 | 31,624.585  |\n",
      "|  OFFICE OF SECRETARY OF STATE              |       304 | 30,715.34108552631578947368421 | 29,963.500  |\n",
      "|  OFFICE OF STATE AUDITOR                   |       182 | 33,298.43329670329670329670330 | 25,971.990  |\n",
      "|  OFFICE OF STATE TREASURER                 |        75 | 26,510.74053333333333333333333 | 24,551.500  |\n",
      "|  PUBLIC SAFETY                             |     7,509 | 28,872.40724863497136769210281 | 25,396.270  |\n",
      "|  REVENUE                                   |     1,844 | 24,244.50131778741865509761388 | 23,870.000  |\n",
      "|  SOCIAL SERVICES                           |     9,336 | 25,876.16202013710368466152528 | 29,870.890  |\n",
      "|  TRANSPORTATION                            |     7,580 | 29,312.66656596306068601583113 | 32,496.840  |\n",
      "|--------------------------------------------+-----------+--------------------------------+-------------|\n"
     ]
    }
   ],
   "source": [
    "by_department = positive_pay.group_by('Agency Name')\n",
    "\n",
    "summary = by_department.aggregate([\n",
    "        ('employees', agate.Count()),\n",
    "        ('pay_mean', agate.Mean('YTD Gross Pay')),\n",
    "        ('pay_median', agate.Median('YTD Gross Pay'))\n",
    "    ])\n",
    "\n",
    "summary.print_table(max_column_width=50)"
   ]
  },
  {
   "cell_type": "code",
   "execution_count": 7,
   "metadata": {
    "collapsed": false
   },
   "outputs": [
    {
     "name": "stdout",
     "output_type": "stream",
     "text": [
      "|--------------------------------------------+-----------+------------------+---------------------|\n",
      "|  Agency Name                               | employees | pay_mean_rounded | pay_median_rounded  |\n",
      "|--------------------------------------------+-----------+------------------+---------------------|\n",
      "|  AGRICULTURE                               |     1,424 |        10,786.03 |             783.28  |\n",
      "|  CONSERVATION                              |     2,518 |        26,294.70 |          24,964.76  |\n",
      "|  CORRECTIONS                               |    13,830 |        26,499.79 |          30,557.30  |\n",
      "|  ECONOMIC DEVELOPMENT                      |       918 |        33,543.02 |          30,971.00  |\n",
      "|  ELEMENTARY AND SECONDARY EDUCATION        |     3,000 |        21,245.96 |          16,442.30  |\n",
      "|  HEALTH AND SENIOR SERVICES                |     2,291 |        32,125.87 |          33,730.00  |\n",
      "|  HIGHER EDUCATION                          |        66 |        39,608.47 |          38,222.25  |\n",
      "|  INSURANCE, FIN INST AND PROF REGISTRATION |       929 |        29,775.89 |          24,549.14  |\n",
      "|  JUDICIARY                                 |     5,075 |        36,394.05 |          27,272.61  |\n",
      "|  LABOR AND INDUSTRIAL RELATIONS            |       996 |        31,863.88 |          31,499.00  |\n",
      "|  LEGISLATURE                               |       921 |        28,148.51 |          31,447.00  |\n",
      "|  MENTAL HEALTH                             |    10,087 |        25,167.91 |          24,385.11  |\n",
      "|  NATURAL RESOURCES                         |     2,813 |        22,472.84 |          17,264.13  |\n",
      "|  OFFICE OF ADMINISTRATION                  |     2,371 |        34,556.85 |          32,841.38  |\n",
      "|  OFFICE OF ATTORNEY GENERAL                |       444 |        42,035.88 |          40,131.12  |\n",
      "|  OFFICE OF GOVERNOR                        |        31 |        59,007.85 |          57,502.26  |\n",
      "|  OFFICE OF LIEUTENANT GOVERNOR             |        10 |        36,385.10 |          31,624.58  |\n",
      "|  OFFICE OF SECRETARY OF STATE              |       304 |        30,715.34 |          29,963.50  |\n",
      "|  OFFICE OF STATE AUDITOR                   |       182 |        33,298.43 |          25,971.99  |\n",
      "|  OFFICE OF STATE TREASURER                 |        75 |        26,510.74 |          24,551.50  |\n",
      "|  PUBLIC SAFETY                             |     7,509 |        28,872.41 |          25,396.27  |\n",
      "|  REVENUE                                   |     1,844 |        24,244.50 |          23,870.00  |\n",
      "|  SOCIAL SERVICES                           |     9,336 |        25,876.16 |          29,870.89  |\n",
      "|  TRANSPORTATION                            |     7,580 |        29,312.67 |          32,496.84  |\n",
      "|--------------------------------------------+-----------+------------------+---------------------|\n"
     ]
    }
   ],
   "source": [
    "from decimal import Decimal\n",
    "\n",
    "number_type = agate.Number()\n",
    "\n",
    "def round_pay_mean(row):\n",
    "    return row['pay_mean'].quantize(Decimal('0.01'))\n",
    "\n",
    "def round_pay_median(row):\n",
    "    return row['pay_median'].quantize(Decimal('0.01'))\n",
    "\n",
    "rounded_pay = summary.compute([\n",
    "    ('pay_mean_rounded', agate.Formula(number_type, round_pay_mean)),\n",
    "    ('pay_median_rounded', agate.Formula(number_type, round_pay_median))\n",
    "]).select(['Agency Name','employees','pay_mean_rounded','pay_median_rounded'])\n",
    "\n",
    "rounded_pay.print_table(max_column_width=50)"
   ]
  },
  {
   "cell_type": "code",
   "execution_count": null,
   "metadata": {
    "collapsed": true
   },
   "outputs": [],
   "source": []
  }
 ],
 "metadata": {
  "kernelspec": {
   "display_name": "Python 2",
   "language": "python",
   "name": "python2"
  },
  "language_info": {
   "codemirror_mode": {
    "name": "ipython",
    "version": 2
   },
   "file_extension": ".py",
   "mimetype": "text/x-python",
   "name": "python",
   "nbconvert_exporter": "python",
   "pygments_lexer": "ipython2",
   "version": "2.7.10"
  }
 },
 "nbformat": 4,
 "nbformat_minor": 0
}
